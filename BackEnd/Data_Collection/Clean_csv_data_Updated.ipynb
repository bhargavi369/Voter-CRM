{
  "nbformat": 4,
  "nbformat_minor": 0,
  "metadata": {
    "colab": {
      "provenance": [],
      "collapsed_sections": [
        "9TnihQDDDGtG",
        "KpDWSMzMjKSl",
        "HttSm0mlRcSn",
        "P7r2GaJJVieh"
      ],
      "include_colab_link": true
    },
    "kernelspec": {
      "name": "python3",
      "display_name": "Python 3"
    },
    "language_info": {
      "name": "python"
    }
  },
  "cells": [
    {
      "cell_type": "markdown",
      "metadata": {
        "id": "view-in-github",
        "colab_type": "text"
      },
      "source": [
        "<a href=\"https://colab.research.google.com/github/resh1998/VoterCRM_Backend/blob/main/BackEnd/Data_Collection/Clean_csv_data_Updated.ipynb\" target=\"_parent\"><img src=\"https://colab.research.google.com/assets/colab-badge.svg\" alt=\"Open In Colab\"/></a>"
      ]
    },
    {
      "cell_type": "markdown",
      "source": [
        "\n",
        "#### Mounting Drive"
      ],
      "metadata": {
        "id": "l8knu3GI6mQa"
      }
    },
    {
      "cell_type": "code",
      "source": [
        "from google.colab import drive\n",
        "\n",
        "drive.mount('/content/drive')"
      ],
      "metadata": {
        "colab": {
          "base_uri": "https://localhost:8080/"
        },
        "id": "cXsSKRjV6TyI",
        "outputId": "f5a8baf5-d977-4aaf-ce74-b31da5895afb"
      },
      "execution_count": 2,
      "outputs": [
        {
          "output_type": "stream",
          "name": "stdout",
          "text": [
            "Mounted at /content/drive\n"
          ]
        }
      ]
    },
    {
      "cell_type": "code",
      "source": [
        "!mkdir /content/drive/MyDrive/Raw_CSV_files\n",
        "!mkdir /content/drive/MyDrive/CSV_files"
      ],
      "metadata": {
        "colab": {
          "base_uri": "https://localhost:8080/"
        },
        "id": "3hMcUlrQ6Ygm",
        "outputId": "f2341a90-176c-4167-dfc0-04394f3671e9"
      },
      "execution_count": 3,
      "outputs": [
        {
          "output_type": "stream",
          "name": "stdout",
          "text": [
            "mkdir: cannot create directory ‘/content/drive/MyDrive/Raw_CSV_files’: File exists\n"
          ]
        }
      ]
    },
    {
      "cell_type": "markdown",
      "source": [
        "#### Pre process all columns (DONT RUN)"
      ],
      "metadata": {
        "id": "KpDWSMzMjKSl"
      }
    },
    {
      "cell_type": "code",
      "source": [
        "# df = df.str.replace('\\n',' ', regex=True)\n",
        "# df.head()"
      ],
      "metadata": {
        "id": "vkwzDzewU4II"
      },
      "execution_count": null,
      "outputs": []
    },
    {
      "cell_type": "code",
      "source": [
        "# df = df.replace(',' ', regex=True)\n",
        "# df.head()"
      ],
      "metadata": {
        "id": "5jJ7ewAOVq8u"
      },
      "execution_count": null,
      "outputs": []
    },
    {
      "cell_type": "markdown",
      "source": [
        "#### Function to get data from string (DONT RUN)"
      ],
      "metadata": {
        "id": "HttSm0mlRcSn"
      }
    },
    {
      "cell_type": "code",
      "source": [
        "# import re\n",
        "\n",
        "# def get_data_from_string(text):\n",
        "\n",
        "#   name = ''\n",
        "#   relation_name = ''\n",
        "#   relation_type = ''\n",
        "#   house_number = ''\n",
        "#   age = ''\n",
        "#   gender = ''\n",
        "\n",
        "#   if 'Husband' in text:\n",
        "\n",
        "#     match = re.search(r'(?<=Name).*(?=Husband\\'s Name)', text)\n",
        "#     name = match.group()\n",
        "    \n",
        "#     match = re.search(r'(?<=Husband\\'s Name).*(?=House Number)', text)\n",
        "#     relation_name = match.group()\n",
        "    \n",
        "#     relation_type = 'H'\n",
        "  \n",
        "#   elif 'Wife' in text:\n",
        "    \n",
        "#     match = re.search(r'(?<=Name).*(?=Wife\\'s Name)', text)\n",
        "#     name = match.group()\n",
        "\n",
        "#     match = re.search(r'(?<=Wife\\'s Name).*(?=House Number)', text)\n",
        "#     relation_name = match.group()\n",
        "\n",
        "#     relation_type = 'W'\n",
        "  \n",
        "#   elif 'Father' in text:\n",
        "    \n",
        "#     match = re.search(r'(?<=Name).*(?=Father\\'s Name)', text)\n",
        "#     name = match.group()\n",
        "\n",
        "#     match = re.search(r'(?<=Father\\'s Name).*(?=House Number)', text)\n",
        "#     relation_name = match.group()\n",
        "\n",
        "#     relation_type = 'F'\n",
        "  \n",
        "#   match = re.search(r'(?<=House Number).*(?=Age)', text)\n",
        "#   house_number = match.group()\n",
        "\n",
        "#   match = re.search(r'(?<=Age).*(?=Gender)', text)\n",
        "#   age =  match.group()\n",
        "\n",
        "#   match = re.search(r'(?<=Gender).*(?=)', text)\n",
        "#   gender = match.group()\n",
        "\n",
        "#   text_new = name + ',' + relation_name + ',' + relation_type + ',' + house_number + ',' + age + ',' + gender \n",
        "  \n",
        "#   return text_new\n",
        "\n",
        "\n"
      ],
      "metadata": {
        "id": "etvHcFVERbVX"
      },
      "execution_count": null,
      "outputs": []
    },
    {
      "cell_type": "markdown",
      "source": [
        "#### Text column Split into diff columns"
      ],
      "metadata": {
        "id": "dCytpE9xwfng"
      }
    },
    {
      "cell_type": "code",
      "source": [
        "#df['Age'] = df['text'].str.extract(r'((?<=Age)(.|\\s)*(?=Gender))')"
      ],
      "metadata": {
        "id": "zarDL8LZXIoh"
      },
      "execution_count": 5,
      "outputs": []
    },
    {
      "cell_type": "code",
      "source": [
        "def process_text_col(df):\n",
        "\n",
        "  df['text'] = df.text.str.replace('\\n', ' ')\n",
        "\n",
        "  df['text'] = df.text.str.replace('Name ', 'Name')\n",
        "  df['text'] = df.text.str.replace('Gender ', 'Gender')\n",
        "  df['text'] = df.text.str.replace('Age ', 'Age')\n",
        "  df['text'] = df.text.str.replace('House Number ', 'House Number')\n",
        "\n",
        "  df['Age'] = df['text'].str.extract(r'((?<=Age).*(?=Gender))')\n",
        "  df['Gender'] = df['text'].str.extract(r'((?<=Gender).*(?=))')   \n",
        "\n",
        "  def condition(x):\n",
        "    if 'Husband' in x:\n",
        "      return 'H'\n",
        "    elif 'Wife' in x:\n",
        "      return 'W'\n",
        "    elif 'Father' in x:\n",
        "      return 'F'\n",
        "    elif 'Mother' in x:\n",
        "      return 'M'\n",
        "    else:\n",
        "      return 'G'\n",
        "\n",
        "  df['Relation_type'] = df['text'].apply(condition)   \n",
        "\n",
        "  df['House_Number'] = df['text'].str.extract(r'((?<=Number).*(?=Age))')\n",
        "\n",
        "  df['text'] = df.text.str.replace('Husband', 'Relation')\n",
        "  df['text'] = df.text.str.replace('Wife', 'Relation')\n",
        "  df['text'] = df.text.str.replace('Father', 'Relation')\n",
        "  df['text'] = df.text.str.replace('Mother', 'Relation')\n",
        "  df['text'] = df.text.str.replace('Other', 'Relation')\n",
        "  df['text'] = df.text.str.replace('\\'s', '')\n",
        "\n",
        "  df['Name'] = df['text'].str.extract(r'((?<=Name).*(?=Relation))') \n",
        "\n",
        "  df['text'] = df['text'].str.split('House').str[0]\n",
        "  df['text'] = df['text'].str.split('Relation').str[1]\n",
        "\n",
        "  df['text'] = df.text.str.replace('Name', '')\n",
        "\n",
        "  df.rename(columns= {'text': 'Relation_Name'}, inplace = True)\n",
        "\n",
        "  df['Name'] = df['Name'].str.replace('!', 'I')\n",
        "  df['Name'] = df['Name'].str.replace('\\W', ' ', regex = True)\n",
        "\n",
        "  df['Relation_Name'] = df['Relation_Name'].str.replace('!', 'I')\n",
        "  df['Relation_Name'] = df['Relation_Name'].str.replace('\\W', ' ', regex = True)\n",
        "\n",
        "  df['House_Number'] = df.House_Number.str.strip()\n",
        "  df['House_Number'] = df.House_Number.str.replace(r'^\\W*', ' ', regex = True)\n",
        "\n",
        "  df['Age'] = df.Age.str.replace('\\W', '', regex = True)\n",
        "  df['Gender'] = df.Gender.str.replace('\\W', '', regex = True)\n",
        "\n",
        "  return df"
      ],
      "metadata": {
        "id": "FG_1l0LP-udP"
      },
      "execution_count": 6,
      "outputs": []
    },
    {
      "cell_type": "markdown",
      "source": [
        "#### Voter columns Preprocessing"
      ],
      "metadata": {
        "id": "P7r2GaJJVieh"
      }
    },
    {
      "cell_type": "code",
      "source": [
        "def process_voter_id_col(df):\n",
        "  \n",
        "  df['voter_id'] = df.voter_id.str.replace(' ', '', regex = True)\n",
        "  \n",
        "  df['voter_id_no_part'] = df.voter_id.str.findall(r'(\\d+)')\n",
        "  df['voter_id_no_part'] = df.voter_id_no_part.str.join(',').astype(str)\n",
        "\n",
        "  df['voter_id_no_part'] = df['voter_id_no_part'].str.replace(',', '')\n",
        "\n",
        "  def add_zeros(x):\n",
        "    if x is not None and len(x) < 7:\n",
        "      return x.zfill(7)\n",
        "    elif x is not None and len(x) > 7:\n",
        "      return x[-7:]\n",
        "    else:\n",
        "      return x\n",
        "\n",
        "  df['voter_id_no_part'] = df['voter_id_no_part'].apply(add_zeros)\n",
        "\n",
        "  def new_voter_id_col(num_part, whole_id):\n",
        "    if num_part is not None and ('G' in whole_id or 'V' in whole_id or 'B' in whole_id):\n",
        "        return 'GVB' + str(num_part)\n",
        "\n",
        "    elif num_part is not None:\n",
        "        return 'TMO' + str(num_part)\n",
        "    else:\n",
        "      return whole_id\n",
        "\n",
        "\n",
        "  df['voter_id_new'] = df.apply(lambda x: new_voter_id_col(x['voter_id_no_part'], x['voter_id']), axis = 1)\n",
        "\n",
        "  df.drop(['voter_id_no_part', 'voter_id'], axis = 1, inplace = True)\n",
        "\n",
        "  return df"
      ],
      "metadata": {
        "id": "4cf7YfnLAS4s"
      },
      "execution_count": 7,
      "outputs": []
    },
    {
      "cell_type": "markdown",
      "source": [
        "#### Header Section"
      ],
      "metadata": {
        "id": "07YvJdz0C3j2"
      }
    },
    {
      "cell_type": "code",
      "source": [
        "def process_header_col(df):\n",
        "\n",
        "  df['header_section'] = df['header_section'].str.replace('/n', ' ')\n",
        "\n",
        "  df['Assembly_Constituency_No_and_Name'] = df['header_section'].str.extract(r'((?<=Assembly Constituency No and Name).*(?=Part))')\n",
        "  df['Assembly_Constituency_No_and_Name'] = df['Assembly_Constituency_No_and_Name'].str.replace(':', '', regex = True)\n",
        "  df['Assembly_Constituency_No_and_Name'] = df['Assembly_Constituency_No_and_Name'].str.strip()\n",
        "\n",
        "  df['Section_No_and_Name'] = df['header_section'].str.extract(r'((?<=Section No and Name).*(?=))') \n",
        "  df['Section_No_and_Name'] = df['Section_No_and_Name'].str.replace(': ', '')\n",
        "\n",
        "  df['header_section'] = df['header_section'].str.replace('\\n', ' ')\n",
        "\n",
        "  df['Part_Number'] = df['header_section'].str.extract(r'((?<=Part number).*(?=Section))')\n",
        "\n",
        "  df['Part_Number'] = df['Part_Number'].str.replace(': ', '').str.strip()\n",
        "\n",
        "  return df"
      ],
      "metadata": {
        "id": "KNeiZCsGBcyV"
      },
      "execution_count": 8,
      "outputs": []
    },
    {
      "cell_type": "markdown",
      "source": [
        "#### Dataframe Editing"
      ],
      "metadata": {
        "id": "YoB_zqs9a2hI"
      }
    },
    {
      "cell_type": "code",
      "source": [
        "def edit_df(df):\n",
        "\n",
        "  df = df.drop(['header_section'], axis = 1)\n",
        "  df = df.rename(columns = {'voter_id_new': 'Voter_id', 'voter_no': 'Voter_no'})\n",
        "\n",
        "  cols =  ['Voter_no', 'Voter_id', 'Name', 'Relation_Name', 'Relation_type', 'Age', \n",
        "         'Gender', 'House_Number', 'Assembly_Constituency_No_and_Name',\n",
        "          'Section_No_and_Name', 'Part_Number']\n",
        "\n",
        "  df = df[cols]\n",
        "\n",
        "  return df"
      ],
      "metadata": {
        "id": "7t4rlczmCKPw"
      },
      "execution_count": 11,
      "outputs": []
    },
    {
      "cell_type": "markdown",
      "source": [
        "#### Main Function"
      ],
      "metadata": {
        "id": "8yG_Bs1bCXXq"
      }
    },
    {
      "cell_type": "code",
      "source": [
        "import pandas as pd\n",
        "import numpy as np\n",
        "\n",
        "from pathlib import Path\n",
        "\n",
        "csv_files = Path(\"/content/drive/MyDrive/Raw_CSV_files\").glob(\"*.csv\")\n",
        "\n",
        "for csv in csv_files:\n",
        "\n",
        "  filename = csv.stem\n",
        "  \n",
        "  csv_path = '/content/drive/MyDrive/Raw_CSV_files/' + filename + '.csv'\n",
        "\n",
        "  df = pd.read_csv(csv_path)\n",
        "  df = process_text_col(df)\n",
        "  df = process_voter_id_col(df)\n",
        "  df = process_header_col(df)\n",
        "  df = edit_df(df)\n",
        "\n",
        "  csv_path = '/content/drive/MyDrive/CSV_files/' + filename + '.csv'\n",
        "  df.to_csv(csv_path)\n"
      ],
      "metadata": {
        "id": "i1xZ7PKOC41S"
      },
      "execution_count": 12,
      "outputs": []
    }
  ]
}